{
 "cells": [
  {
   "cell_type": "code",
   "execution_count": 1,
   "id": "7301b531-4e38-4aa8-8989-b83f8ca26c19",
   "metadata": {},
   "outputs": [
    {
     "name": "stdout",
     "output_type": "stream",
     "text": [
      "Requirement already satisfied: requests in c:\\users\\rv405\\appdata\\local\\programs\\python\\python312\\lib\\site-packages (2.31.0)\n",
      "Requirement already satisfied: pandas in c:\\users\\rv405\\appdata\\local\\programs\\python\\python312\\lib\\site-packages (2.1.4)\n",
      "Collecting sqlalchemy\n",
      "  Obtaining dependency information for sqlalchemy from https://files.pythonhosted.org/packages/d0/ff/5746886a796799d45285573c8a6564b4b84c730142ab974d7a3f7bacee6c/SQLAlchemy-2.0.31-cp312-cp312-win_amd64.whl.metadata\n",
      "  Downloading SQLAlchemy-2.0.31-cp312-cp312-win_amd64.whl.metadata (9.9 kB)\n",
      "Collecting pyodbc\n",
      "  Obtaining dependency information for pyodbc from https://files.pythonhosted.org/packages/71/6e/6b8ec142713bbb8e34da6b73cf281699904823e1a61f9a78b6cbda92301a/pyodbc-5.1.0-cp312-cp312-win_amd64.whl.metadata\n",
      "  Downloading pyodbc-5.1.0-cp312-cp312-win_amd64.whl.metadata (2.8 kB)\n",
      "Requirement already satisfied: charset-normalizer<4,>=2 in c:\\users\\rv405\\appdata\\local\\programs\\python\\python312\\lib\\site-packages (from requests) (3.3.2)\n",
      "Requirement already satisfied: idna<4,>=2.5 in c:\\users\\rv405\\appdata\\local\\programs\\python\\python312\\lib\\site-packages (from requests) (3.6)\n",
      "Requirement already satisfied: urllib3<3,>=1.21.1 in c:\\users\\rv405\\appdata\\local\\programs\\python\\python312\\lib\\site-packages (from requests) (2.1.0)\n",
      "Requirement already satisfied: certifi>=2017.4.17 in c:\\users\\rv405\\appdata\\local\\programs\\python\\python312\\lib\\site-packages (from requests) (2023.11.17)\n",
      "Requirement already satisfied: numpy<2,>=1.26.0 in c:\\users\\rv405\\appdata\\local\\programs\\python\\python312\\lib\\site-packages (from pandas) (1.26.2)\n",
      "Requirement already satisfied: python-dateutil>=2.8.2 in c:\\users\\rv405\\appdata\\local\\programs\\python\\python312\\lib\\site-packages (from pandas) (2.8.2)\n",
      "Requirement already satisfied: pytz>=2020.1 in c:\\users\\rv405\\appdata\\local\\programs\\python\\python312\\lib\\site-packages (from pandas) (2023.3.post1)\n",
      "Requirement already satisfied: tzdata>=2022.1 in c:\\users\\rv405\\appdata\\local\\programs\\python\\python312\\lib\\site-packages (from pandas) (2023.4)\n",
      "Collecting typing-extensions>=4.6.0 (from sqlalchemy)\n",
      "  Obtaining dependency information for typing-extensions>=4.6.0 from https://files.pythonhosted.org/packages/26/9f/ad63fc0248c5379346306f8668cda6e2e2e9c95e01216d2b8ffd9ff037d0/typing_extensions-4.12.2-py3-none-any.whl.metadata\n",
      "  Downloading typing_extensions-4.12.2-py3-none-any.whl.metadata (3.0 kB)\n",
      "Collecting greenlet!=0.4.17 (from sqlalchemy)\n",
      "  Obtaining dependency information for greenlet!=0.4.17 from https://files.pythonhosted.org/packages/53/80/3d94d5999b4179d91bcc93745d1b0815b073d61be79dd546b840d17adb18/greenlet-3.0.3-cp312-cp312-win_amd64.whl.metadata\n",
      "  Downloading greenlet-3.0.3-cp312-cp312-win_amd64.whl.metadata (3.9 kB)\n",
      "Requirement already satisfied: six>=1.5 in c:\\users\\rv405\\appdata\\local\\programs\\python\\python312\\lib\\site-packages (from python-dateutil>=2.8.2->pandas) (1.16.0)\n",
      "Downloading SQLAlchemy-2.0.31-cp312-cp312-win_amd64.whl (2.1 MB)\n",
      "   ---------------------------------------- 0.0/2.1 MB ? eta -:--:--\n",
      "   -- ------------------------------------- 0.2/2.1 MB 3.1 MB/s eta 0:00:01\n",
      "   --------- ------------------------------ 0.5/2.1 MB 6.0 MB/s eta 0:00:01\n",
      "   ----------------- ---------------------- 0.9/2.1 MB 6.2 MB/s eta 0:00:01\n",
      "   -------------------------- ------------- 1.4/2.1 MB 7.3 MB/s eta 0:00:01\n",
      "   ------------------------------- -------- 1.6/2.1 MB 8.0 MB/s eta 0:00:01\n",
      "   ------------------------------------- -- 2.0/2.1 MB 6.9 MB/s eta 0:00:01\n",
      "   ---------------------------------------- 2.1/2.1 MB 6.6 MB/s eta 0:00:00\n",
      "Downloading pyodbc-5.1.0-cp312-cp312-win_amd64.whl (69 kB)\n",
      "   ---------------------------------------- 0.0/69.3 kB ? eta -:--:--\n",
      "   ---------------------------------------- 69.3/69.3 kB 3.9 MB/s eta 0:00:00\n",
      "Downloading greenlet-3.0.3-cp312-cp312-win_amd64.whl (293 kB)\n",
      "   ---------------------------------------- 0.0/293.6 kB ? eta -:--:--\n",
      "   ------------------------------------- -- 276.5/293.6 kB 5.7 MB/s eta 0:00:01\n",
      "   ---------------------------------------- 293.6/293.6 kB 6.0 MB/s eta 0:00:00\n",
      "Downloading typing_extensions-4.12.2-py3-none-any.whl (37 kB)\n",
      "Installing collected packages: typing-extensions, pyodbc, greenlet, sqlalchemy\n",
      "Successfully installed greenlet-3.0.3 pyodbc-5.1.0 sqlalchemy-2.0.31 typing-extensions-4.12.2\n"
     ]
    },
    {
     "name": "stderr",
     "output_type": "stream",
     "text": [
      "\n",
      "[notice] A new release of pip is available: 23.2.1 -> 24.1.2\n",
      "[notice] To update, run: python.exe -m pip install --upgrade pip\n"
     ]
    }
   ],
   "source": [
    "!pip install requests pandas sqlalchemy pyodbc"
   ]
  },
  {
   "cell_type": "code",
   "execution_count": 20,
   "id": "53de2f9b-cf8e-4cb9-a16c-3f111ea8a4e6",
   "metadata": {},
   "outputs": [
    {
     "name": "stdout",
     "output_type": "stream",
     "text": [
      "[{'Provider CCN': 670068, 'Hospital Name': 'Texas Health Presbyterian Hospital Flower Mound', 'Alias': 'Presbyterian Hosp Flower Mound', 'Url': 'http://www.texashealthflowermound.com/', 'Phone': '(469)322-7000', 'Service': 'General medical and surgical', 'Type': 'General Short Term', 'Approval Codes': 'Medicare certification by the Centers for Medicare and Medicaid Services,,The Joint Commission accreditation,,The Joint Commission accreditation,', 'Street Address': '4400 Long Prairie Road', 'City': 'Flower Mound', 'State Code': 'TX', 'Zip Code': '75028-1892', 'County': 'Denton', 'Medicare CBSA Number': 19124, 'Rural Versus Urban': 'U', 'Control': 'Partnership,Investor-owned,for-profit', 'Number of Beds': 99, 'Parent Unit': None, 'Affiliated Units': None, 'System': None}]\n"
     ]
    }
   ],
   "source": [
    "# Extract Data from API\n",
    "import requests\n",
    "#library to handle HTTP requests\n",
    "url = \"https://us-hospitals.p.rapidapi.com/?ccn=670068\"  # API endpoint obtained from RapidAPI\n",
    "headers = {\n",
    "    \"X-RapidAPI-Host\": \"us-hospitals.p.rapidapi.com\", #specifies the host API\n",
    "    \"X-RapidAPI-Key\": \"01a8db32e5msh88269d4cb8f2b96p10e163jsnfe7ac76437ab\"  # RapidAPI key\n",
    "}\n",
    "\n",
    "response = requests.get(url, headers=headers)\n",
    "data = response.json()\n",
    "\n",
    "# Displying the obtained Data\n",
    "print(data)"
   ]
  },
  {
   "cell_type": "code",
   "execution_count": 4,
   "id": "b5b13974-ba91-49f0-b788-1b14a21d54ed",
   "metadata": {},
   "outputs": [],
   "source": [
    "# Load data into Dataframe \n",
    "import pandas as pd"
   ]
  },
  {
   "cell_type": "code",
   "execution_count": 5,
   "id": "b2034ca0-4341-4104-bbba-4c9d9922a969",
   "metadata": {},
   "outputs": [
    {
     "name": "stdout",
     "output_type": "stream",
     "text": [
      "   Provider CCN                                    Hospital Name  \\\n",
      "0        670068  Texas Health Presbyterian Hospital Flower Mound   \n",
      "\n",
      "                            Alias                                     Url  \\\n",
      "0  Presbyterian Hosp Flower Mound  http://www.texashealthflowermound.com/   \n",
      "\n",
      "           Phone                       Service                Type  \\\n",
      "0  (469)322-7000  General medical and surgical  General Short Term   \n",
      "\n",
      "                                      Approval Codes          Street Address  \\\n",
      "0  Medicare certification by the Centers for Medi...  4400 Long Prairie Road   \n",
      "\n",
      "           City State Code    Zip Code  County  Medicare CBSA Number  \\\n",
      "0  Flower Mound         TX  75028-1892  Denton                 19124   \n",
      "\n",
      "  Rural Versus Urban                                Control  Number of Beds  \\\n",
      "0                  U  Partnership,Investor-owned,for-profit              99   \n",
      "\n",
      "  Parent Unit Affiliated Units System  \n",
      "0        None             None   None  \n"
     ]
    }
   ],
   "source": [
    "# Data is a list of Dictionaries\n",
    "df = pd.DataFrame(data)\n",
    "print(df.head())"
   ]
  },
  {
   "cell_type": "code",
   "execution_count": 8,
   "id": "cce77af5-9010-4a78-9f9b-3bcc8aa99aad",
   "metadata": {},
   "outputs": [
    {
     "name": "stdout",
     "output_type": "stream",
     "text": [
      "   Provider CCN                                    Hospital Name  \\\n",
      "0        670068  Texas Health Presbyterian Hospital Flower Mound   \n",
      "\n",
      "                            Alias                                     Url  \\\n",
      "0  Presbyterian Hosp Flower Mound  http://www.texashealthflowermound.com/   \n",
      "\n",
      "           Phone                       Service                Type  \\\n",
      "0  (469)322-7000  General medical and surgical  General Short Term   \n",
      "\n",
      "                                      Approval Codes          Street Address  \\\n",
      "0  Medicare certification by the Centers for Medi...  4400 Long Prairie Road   \n",
      "\n",
      "           City State Code    Zip Code  County  Medicare CBSA Number  \\\n",
      "0  Flower Mound         TX  75028-1892  Denton                 19124   \n",
      "\n",
      "  Rural Versus Urban                                Control  Number of Beds  \\\n",
      "0                  U  Partnership,Investor-owned,for-profit              99   \n",
      "\n",
      "  Parent Unit Affiliated Units System  \n",
      "0        None             None   None  \n"
     ]
    }
   ],
   "source": [
    "# Transform Data:\n",
    "df['Number of Beds'] = df['Number of Beds'].astype(int)\n",
    "print(df.head())"
   ]
  },
  {
   "cell_type": "code",
   "execution_count": 9,
   "id": "648b9329-f714-4c41-844b-0c44f75c7d45",
   "metadata": {},
   "outputs": [
    {
     "name": "stdout",
     "output_type": "stream",
     "text": [
      "   Provider CCN                                    Hospital Name  \\\n",
      "0        670068  Texas Health Presbyterian Hospital Flower Mound   \n",
      "\n",
      "                            Alias                                     Url  \\\n",
      "0  Presbyterian Hosp Flower Mound  http://www.texashealthflowermound.com/   \n",
      "\n",
      "                Phone                       Service                Type  \\\n",
      "0  +1-(46-9)3-22-7000  General medical and surgical  General Short Term   \n",
      "\n",
      "                                      Approval Codes          Street Address  \\\n",
      "0  Medicare certification by the Centers for Medi...  4400 Long Prairie Road   \n",
      "\n",
      "           City State Code    Zip Code  County  Medicare CBSA Number  \\\n",
      "0  Flower Mound         TX  75028-1892  Denton                 19124   \n",
      "\n",
      "  Rural Versus Urban                                Control  Number of Beds  \\\n",
      "0                  U  Partnership,Investor-owned,for-profit              99   \n",
      "\n",
      "     Parent Unit Affiliated Units         System  \n",
      "0  Not Available    Not Available  Not Available  \n"
     ]
    }
   ],
   "source": [
    "# Standardize text fields\n",
    "df['Hospital Name'] = df['Hospital Name'].str.strip()\n",
    "df['Alias'] = df['Alias'].str.strip()\n",
    "df['City'] = df['City'].str.strip()\n",
    "df['Control'] = df['Control'].str.strip()\n",
    "\n",
    "# Handle missing values\n",
    "df.fillna({'Parent Unit': 'Not Available', 'Affiliated Units': 'Not Available', 'System': 'Not Available'}, inplace=True)\n",
    "\n",
    "# Normalize phone numbers\n",
    "df['Phone'] = df['Phone'].apply(lambda x: f\"+1-{x[:3]}-{x[3:6]}-{x[6:]}\")\n",
    "\n",
    "# Display the transformed DataFrame\n",
    "print(df.head())"
   ]
  },
  {
   "cell_type": "code",
   "execution_count": 11,
   "id": "fec5fd8e-5665-4e1c-bd6f-87b4bc3f6717",
   "metadata": {},
   "outputs": [
    {
     "name": "stdout",
     "output_type": "stream",
     "text": [
      "Requirement already satisfied: sqlalchemy in c:\\users\\rv405\\appdata\\local\\programs\\python\\python312\\lib\\site-packages (2.0.31)\n",
      "Requirement already satisfied: pyodbc in c:\\users\\rv405\\appdata\\local\\programs\\python\\python312\\lib\\site-packages (5.1.0)\n",
      "Requirement already satisfied: typing-extensions>=4.6.0 in c:\\users\\rv405\\appdata\\local\\programs\\python\\python312\\lib\\site-packages (from sqlalchemy) (4.12.2)\n",
      "Requirement already satisfied: greenlet!=0.4.17 in c:\\users\\rv405\\appdata\\local\\programs\\python\\python312\\lib\\site-packages (from sqlalchemy) (3.0.3)\n"
     ]
    },
    {
     "name": "stderr",
     "output_type": "stream",
     "text": [
      "\n",
      "[notice] A new release of pip is available: 23.2.1 -> 24.1.2\n",
      "[notice] To update, run: python.exe -m pip install --upgrade pip\n"
     ]
    }
   ],
   "source": [
    "!pip install sqlalchemy pyodbc"
   ]
  },
  {
   "cell_type": "code",
   "execution_count": 21,
   "id": "d00edacb-1e93-4c6c-8a92-c2b9091b63c4",
   "metadata": {},
   "outputs": [],
   "source": [
    "from sqlalchemy import create_engine\n",
    "\n",
    "# Load Data into Microsoft SQL Server\n",
    "server = 'VINOTH\\\\SQLEXPRESS'  # server name\n",
    "database = 'SQL Project'  # database name\n",
    "driver = 'ODBC Driver 17 for SQL Server'\n",
    "\n",
    "connection_string = f'mssql+pyodbc://@{server}/{database}?driver={driver}&trusted_connection=yes'\n",
    "engine = create_engine(connection_string)\n"
   ]
  },
  {
   "cell_type": "code",
   "execution_count": 22,
   "id": "b2aa7cd3-9460-41f8-a873-cea71c7b4f6d",
   "metadata": {},
   "outputs": [
    {
     "data": {
      "text/plain": [
       "1"
      ]
     },
     "execution_count": 22,
     "metadata": {},
     "output_type": "execute_result"
    }
   ],
   "source": [
    "# Loading DataFrame into SQL Table\n",
    "df.to_sql('hospitals', con=engine, if_exists='replace', index=False)"
   ]
  },
  {
   "cell_type": "code",
   "execution_count": null,
   "id": "8b058268-eef8-4d87-8c70-c13e574195d9",
   "metadata": {},
   "outputs": [],
   "source": []
  }
 ],
 "metadata": {
  "kernelspec": {
   "display_name": "Python 3 (ipykernel)",
   "language": "python",
   "name": "python3"
  },
  "language_info": {
   "codemirror_mode": {
    "name": "ipython",
    "version": 3
   },
   "file_extension": ".py",
   "mimetype": "text/x-python",
   "name": "python",
   "nbconvert_exporter": "python",
   "pygments_lexer": "ipython3",
   "version": "3.12.1"
  }
 },
 "nbformat": 4,
 "nbformat_minor": 5
}
